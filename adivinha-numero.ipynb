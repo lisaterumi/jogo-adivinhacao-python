{
 "cells": [
  {
   "cell_type": "markdown",
   "metadata": {},
   "source": [
    "# Jogo de adivinhação em Python\n",
    "\n",
    "Vamos implementar um jogo de adivinhação interativo simples em Python.\n",
    "\n",
    "Adaptado de: https://djangocentral.com/creating-a-guessing-game-in-python/\n",
    "\n",
    "Neste jogo de adivinhação, o computador irá gerar um número aleatório entre 1 a 10, e o usuário terá que adivinhar em 5 tentativas.\n",
    "\n",
    "Com base na tentativa do usuário, o computador fornecerá dicas se o número for alto ou baixo. Quando a escolha do usuário corresponder ao número, o computador imprimirá a resposta junto com o número de tentativas.\n",
    "\n",
    "#### Passos \n",
    "\n",
    "Para gerar um número aleatório, usaremos o módulo Python ```random```. "
   ]
  },
  {
   "cell_type": "code",
   "execution_count": 2,
   "metadata": {},
   "outputs": [],
   "source": [
    "import random"
   ]
  },
  {
   "cell_type": "markdown",
   "metadata": {},
   "source": [
    "A seguir, usaremos esse o módulo para gerar um número entre 1 a 10 e armazená-lo em uma variável chamada ```number```."
   ]
  },
  {
   "cell_type": "code",
   "execution_count": 3,
   "metadata": {},
   "outputs": [],
   "source": [
    "number = random.randint(1, 10)"
   ]
  },
  {
   "cell_type": "markdown",
   "metadata": {},
   "source": [
    "Agora, vamos perguntar o nome do usuário, e armazenar na variável ```player_name```."
   ]
  },
  {
   "cell_type": "code",
   "execution_count": 4,
   "metadata": {},
   "outputs": [
    {
     "name": "stdout",
     "output_type": "stream",
     "text": [
      "Olá! Qual o seu nome? Terumi\n"
     ]
    }
   ],
   "source": [
    "player_name = input(\"Olá! Qual o seu nome? \")"
   ]
  },
  {
   "cell_type": "markdown",
   "metadata": {},
   "source": [
    "Agora vamos criar uma variável chamada ```number_of_guesses``` e atribuir 0 a ela. Posteriormente, aumentaremos esse valor em cada iteração do *loop* ```while```.\n",
    "\n",
    "Finalmente, antes de construir o *loop*, imprimiremos o nome do jogador."
   ]
  },
  {
   "cell_type": "code",
   "execution_count": 6,
   "metadata": {},
   "outputs": [
    {
     "name": "stdout",
     "output_type": "stream",
     "text": [
      "Legal! Terumi , tente adivinhar o número que estou pensando, entre 1 e 10:\n"
     ]
    }
   ],
   "source": [
    "number_of_guesses = 0\n",
    "print('Legal! '+ player_name+ ' , tente adivinhar o número que estou pensando, entre 1 e 10:')"
   ]
  },
  {
   "cell_type": "markdown",
   "metadata": {},
   "source": [
    "Agora vamos projetar o *loop* ```while```."
   ]
  },
  {
   "cell_type": "code",
   "execution_count": 7,
   "metadata": {},
   "outputs": [
    {
     "name": "stdout",
     "output_type": "stream",
     "text": [
      "5\n"
     ]
    }
   ],
   "source": [
    "while number_of_guesses < 5:\n",
    "    guess = int(input())\n",
    "    number_of_guesses += 1\n",
    "    if guess < number:\n",
    "        print('Seu palpite é muito baixo.')\n",
    "    if guess > number:\n",
    "        print('Seu palpite é muito alto.')\n",
    "    if guess == number:\n",
    "        break\n"
   ]
  },
  {
   "cell_type": "markdown",
   "metadata": {},
   "source": [
    "Na primeira linha, estamos definindo a expressão de controle do *loop*. Nosso jogo dará ao usuário 5 tentativas para adivinhar o número (já atribuímos a variável ```number_of_guesses a 0```).\n",
    "\n",
    "Dentro do *loop*, pegamos a entrada do usuário e armazenamos na variável ```guess```. Como a entrada do usuário é um objeto *string* e, para realizar operações matemáticas nele, precisamos convertê-lo em um número inteiro, usamos o método ```int()``` do Python.\n",
    "\n",
    "Na próxima linha, estamos incrementando o valor da variável ```number_of_guesses``` em 1.\n",
    "\n",
    "Dentro do *loop*, temos 3 declarações condicionais, que comparam o palpite do usuário com o número aleatório escoliho. O ```break``` é executado quando o palpite for exatamente o número escoliho, encerrando o *loop*.\n",
    "\n",
    "Abaixo do *loop*, adicionamos outro par ```if / else```:"
   ]
  },
  {
   "cell_type": "code",
   "execution_count": 9,
   "metadata": {},
   "outputs": [
    {
     "name": "stdout",
     "output_type": "stream",
     "text": [
      "Você acertou o número em 1 tentativa(s)!\n"
     ]
    }
   ],
   "source": [
    "if guess == number:\n",
    "    print('Você acertou o número em ' + str(number_of_guesses) + ' tentativa(s)!')\n",
    "else:\n",
    "    print('Você não acertou o número, o número era ' + str(number))"
   ]
  }
 ],
 "metadata": {
  "kernelspec": {
   "display_name": "Python 3",
   "language": "python",
   "name": "python3"
  },
  "language_info": {
   "codemirror_mode": {
    "name": "ipython",
    "version": 3
   },
   "file_extension": ".py",
   "mimetype": "text/x-python",
   "name": "python",
   "nbconvert_exporter": "python",
   "pygments_lexer": "ipython3",
   "version": "3.6.12"
  }
 },
 "nbformat": 4,
 "nbformat_minor": 4
}
